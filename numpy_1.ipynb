{
 "cells": [
  {
   "cell_type": "code",
   "execution_count": 3,
   "id": "722c4c4c",
   "metadata": {},
   "outputs": [],
   "source": [
    "import numpy as np"
   ]
  },
  {
   "cell_type": "code",
   "execution_count": 13,
   "id": "2d9a29f1",
   "metadata": {},
   "outputs": [
    {
     "data": {
      "text/plain": [
       "array([0, 0, 0, 0, 0, 0, 0, 0, 0, 0])"
      ]
     },
     "execution_count": 13,
     "metadata": {},
     "output_type": "execute_result"
    }
   ],
   "source": [
    "a = np.arange(10)\n",
    "np.zeros_like(a)"
   ]
  },
  {
   "cell_type": "code",
   "execution_count": 17,
   "id": "b566a703",
   "metadata": {},
   "outputs": [
    {
     "name": "stdout",
     "output_type": "stream",
     "text": [
      "[1 1 1 1 1 1 1 1 1 1]\n"
     ]
    }
   ],
   "source": [
    "b = np.ones_like(a, dtype = int)\n",
    "print(b)"
   ]
  },
  {
   "cell_type": "code",
   "execution_count": 6,
   "id": "975e6121",
   "metadata": {},
   "outputs": [
    {
     "name": "stdout",
     "output_type": "stream",
     "text": [
      "[[1 1 1 1 1]\n",
      " [1 1 1 1 1]]\n"
     ]
    }
   ],
   "source": [
    "c = np.ones(shape=(2,5), dtype = int)\n",
    "print(c)"
   ]
  },
  {
   "cell_type": "code",
   "execution_count": 34,
   "id": "ea2d2eb1",
   "metadata": {
    "scrolled": true
   },
   "outputs": [
    {
     "name": "stdout",
     "output_type": "stream",
     "text": [
      "[[0. 0. 0. 0. 0. 0. 0. 0. 0. 0.]\n",
      " [0. 0. 0. 0. 0. 0. 0. 0. 0. 0.]\n",
      " [0. 0. 0. 0. 0. 0. 0. 0. 0. 0.]\n",
      " [0. 0. 0. 0. 0. 0. 0. 0. 0. 0.]\n",
      " [0. 0. 0. 0. 0. 0. 0. 0. 0. 0.]\n",
      " [0. 0. 0. 0. 0. 0. 0. 0. 0. 0.]\n",
      " [0. 0. 0. 0. 0. 0. 0. 0. 0. 0.]\n",
      " [0. 0. 0. 0. 0. 0. 0. 0. 0. 0.]\n",
      " [0. 0. 0. 0. 0. 0. 0. 0. 0. 0.]\n",
      " [0. 0. 0. 0. 0. 0. 0. 0. 0. 0.]]\n",
      "800 byte\n"
     ]
    }
   ],
   "source": [
    "d = np.zeros((10,10))\n",
    "print(d)\n",
    "\n",
    "print(d.size * d.itemsize,'byte')"
   ]
  },
  {
   "cell_type": "code",
   "execution_count": 39,
   "id": "94f347b0",
   "metadata": {
    "scrolled": true
   },
   "outputs": [
    {
     "name": "stdout",
     "output_type": "stream",
     "text": [
      "[0. 0. 0. 0. 1. 0. 0. 0. 0. 0.]\n"
     ]
    }
   ],
   "source": [
    "e = np.zeros(10)\n",
    "e[4] = 1\n",
    "print(e)"
   ]
  },
  {
   "cell_type": "code",
   "execution_count": 46,
   "id": "03b505e7",
   "metadata": {},
   "outputs": [
    {
     "name": "stdout",
     "output_type": "stream",
     "text": [
      "[10 11 12 13 14 15 16 17 18 19 20 21 22 23 24 25 26 27 28 29 30 31 32 33\n",
      " 34 35 36 37 38 39 40 41 42 43 44 45 46 47 48 49 50]\n"
     ]
    }
   ],
   "source": [
    "f = np.arange(10,51)\n",
    "print(f)"
   ]
  },
  {
   "cell_type": "code",
   "execution_count": 50,
   "id": "0e6a4952",
   "metadata": {},
   "outputs": [
    {
     "name": "stdout",
     "output_type": "stream",
     "text": [
      "[50 49 48 47 46 45 44 43 42 41 40 39 38 37 36 35 34 33 32 31 30 29 28 27\n",
      " 26 25 24 23 22 21 20 19 18 17 16 15 14 13 12 11 10  9  8  7  6  5  4  3\n",
      "  2  1  0]\n"
     ]
    }
   ],
   "source": [
    "g = np.arange(0,51)\n",
    "g = g[::-1]\n",
    "print(g)"
   ]
  },
  {
   "cell_type": "code",
   "execution_count": 56,
   "id": "7cdc803c",
   "metadata": {},
   "outputs": [
    {
     "name": "stdout",
     "output_type": "stream",
     "text": [
      "[[1 2 3]\n",
      " [4 5 6]\n",
      " [7 8 9]]\n"
     ]
    }
   ],
   "source": [
    "h = np.arange(1,10).reshape(3,3)\n",
    "print(h)"
   ]
  },
  {
   "cell_type": "code",
   "execution_count": 59,
   "id": "5e737570",
   "metadata": {},
   "outputs": [
    {
     "name": "stdout",
     "output_type": "stream",
     "text": [
      "(array([4], dtype=int64),)\n"
     ]
    }
   ],
   "source": [
    "i = np.nonzero(e)\n",
    "print(i)"
   ]
  },
  {
   "cell_type": "code",
   "execution_count": 66,
   "id": "18ae7055",
   "metadata": {},
   "outputs": [
    {
     "name": "stdout",
     "output_type": "stream",
     "text": [
      "[[0 1 2]\n",
      " [2 1 0]\n",
      " [0 0 0]]\n",
      "(array([0, 0, 1, 1], dtype=int64), array([1, 2, 0, 1], dtype=int64))\n"
     ]
    }
   ],
   "source": [
    "a1 = np.array([0,1,2])\n",
    "a2 = np.array([2,1,0])\n",
    "a3 = np.array([0,0,0])\n",
    "\n",
    "ans = np.vstack((a1,a2,a3))\n",
    "print(ans)\n",
    "\n",
    "print(np.nonzero(ans))"
   ]
  },
  {
   "cell_type": "code",
   "execution_count": 68,
   "id": "a2843190",
   "metadata": {},
   "outputs": [
    {
     "name": "stdout",
     "output_type": "stream",
     "text": [
      "[[0 1 2]\n",
      " [2 1 0]\n",
      " [0 1 2]]\n",
      "(array([0, 0, 1, 1, 2, 2], dtype=int64), array([1, 2, 0, 1, 1, 2], dtype=int64))\n"
     ]
    }
   ],
   "source": [
    "a1 = np.arange(0,3)\n",
    "a2 = np.arange(2,-1,-1)\n",
    "a3 = np.arange(3)\n",
    "ans = np.vstack((a1,a2,a3))\n",
    "print(ans)\n",
    "\n",
    "print(np.nonzero(ans))"
   ]
  },
  {
   "cell_type": "code",
   "execution_count": 73,
   "id": "e09e338d",
   "metadata": {},
   "outputs": [
    {
     "name": "stdout",
     "output_type": "stream",
     "text": [
      "[[1. 0. 0.]\n",
      " [0. 1. 0.]\n",
      " [0. 0. 1.]]\n"
     ]
    }
   ],
   "source": [
    "b1 = np.identity(3)\n",
    "print(b1)"
   ]
  },
  {
   "cell_type": "code",
   "execution_count": 77,
   "id": "70852b09",
   "metadata": {},
   "outputs": [
    {
     "name": "stdout",
     "output_type": "stream",
     "text": [
      "[[[0.88414241 0.03341649 0.77601914]\n",
      "  [0.60664664 0.79098638 0.8805173 ]\n",
      "  [0.42531302 0.84192488 0.06818014]]\n",
      "\n",
      " [[0.0231202  0.82265924 0.1759274 ]\n",
      "  [0.87501337 0.59569871 0.33891958]\n",
      "  [0.15830895 0.26670669 0.81062255]]\n",
      "\n",
      " [[0.41979653 0.17987093 0.00422754]\n",
      "  [0.21623989 0.12061666 0.04785479]\n",
      "  [0.31585509 0.86794822 0.70950728]]]\n"
     ]
    }
   ],
   "source": [
    "a = np.random.random((3,3,3))\n",
    "\n",
    "print(a)"
   ]
  },
  {
   "cell_type": "code",
   "execution_count": 83,
   "id": "2cc35404",
   "metadata": {},
   "outputs": [
    {
     "name": "stdout",
     "output_type": "stream",
     "text": [
      "[[0.08299073 0.85947141 0.36765497 0.27202867 0.62543308]\n",
      " [0.76395262 0.78834313 0.96351312 0.19359305 0.13306768]\n",
      " [0.26813898 0.06187426 0.27515572 0.76499873 0.50507232]\n",
      " [0.59461785 0.99895668 0.83050194 0.62620107 0.56171782]\n",
      " [0.42727322 0.56274617 0.02730858 0.32890569 0.71176737]]\n",
      "0.027308578709674625\n",
      "0.9989566771269016\n"
     ]
    }
   ],
   "source": [
    "a = np.random.random((5,5))\n",
    "\n",
    "print(a)\n",
    "print(a.min())\n",
    "print(a.max())"
   ]
  },
  {
   "cell_type": "code",
   "execution_count": 89,
   "id": "2f5cbef2",
   "metadata": {},
   "outputs": [
    {
     "name": "stdout",
     "output_type": "stream",
     "text": [
      "[0.05806471 0.08422225 0.19066078 0.91734459 0.95469166 0.76045003\n",
      " 0.79226138 0.84577988 0.18042679 0.68116671 0.89267887 0.55252447\n",
      " 0.07368823 0.24384034 0.30792417 0.27640344 0.06991057 0.10766928\n",
      " 0.83448206 0.15770938 0.48147402 0.69620762 0.22429831 0.49033375\n",
      " 0.71495388 0.81082131 0.28540818 0.2853379  0.14726117 0.80648517\n",
      " 0.90900508 0.42479021 0.08503949 0.20229244 0.7436995  0.79166611\n",
      " 0.88647998 0.73327182 0.15784883 0.09270341 0.35602182 0.02658903\n",
      " 0.30641779 0.99736422 0.75968022 0.57529428 0.85844362 0.96683497\n",
      " 0.42273125 0.91945543]\n",
      "25.140110418122866 0.5028022083624574\n"
     ]
    }
   ],
   "source": [
    "a = np.random.random(50)\n",
    "print(a)\n",
    "\n",
    "print(a.sum(), a.mean())"
   ]
  },
  {
   "cell_type": "code",
   "execution_count": 95,
   "id": "b80250e7",
   "metadata": {},
   "outputs": [
    {
     "name": "stdout",
     "output_type": "stream",
     "text": [
      "[[1. 1. 1. 1. 1. 1. 1. 1. 1. 1. 1. 1. 1. 1. 1.]\n",
      " [1. 0. 0. 0. 0. 0. 0. 0. 0. 0. 0. 0. 0. 0. 1.]\n",
      " [1. 0. 0. 0. 0. 0. 0. 0. 0. 0. 0. 0. 0. 0. 1.]\n",
      " [1. 0. 0. 0. 0. 0. 0. 0. 0. 0. 0. 0. 0. 0. 1.]\n",
      " [1. 0. 0. 0. 0. 0. 0. 0. 0. 0. 0. 0. 0. 0. 1.]\n",
      " [1. 0. 0. 0. 0. 0. 0. 0. 0. 0. 0. 0. 0. 0. 1.]\n",
      " [1. 0. 0. 0. 0. 0. 0. 0. 0. 0. 0. 0. 0. 0. 1.]\n",
      " [1. 0. 0. 0. 0. 0. 0. 0. 0. 0. 0. 0. 0. 0. 1.]\n",
      " [1. 0. 0. 0. 0. 0. 0. 0. 0. 0. 0. 0. 0. 0. 1.]\n",
      " [1. 0. 0. 0. 0. 0. 0. 0. 0. 0. 0. 0. 0. 0. 1.]\n",
      " [1. 0. 0. 0. 0. 0. 0. 0. 0. 0. 0. 0. 0. 0. 1.]\n",
      " [1. 0. 0. 0. 0. 0. 0. 0. 0. 0. 0. 0. 0. 0. 1.]\n",
      " [1. 0. 0. 0. 0. 0. 0. 0. 0. 0. 0. 0. 0. 0. 1.]\n",
      " [1. 0. 0. 0. 0. 0. 0. 0. 0. 0. 0. 0. 0. 0. 1.]\n",
      " [1. 1. 1. 1. 1. 1. 1. 1. 1. 1. 1. 1. 1. 1. 1.]]\n"
     ]
    }
   ],
   "source": [
    "a = np.ones((15,15))\n",
    "a[1:-1, 1:-1] = 0\n",
    "print(a)\n",
    "\n"
   ]
  },
  {
   "cell_type": "code",
   "execution_count": 97,
   "id": "c98d0f5d",
   "metadata": {},
   "outputs": [
    {
     "name": "stdout",
     "output_type": "stream",
     "text": [
      "[ 0  0 10 20 30 40 50  0  0  0]\n",
      "[ 10  20  30  40  50 100 100 100]\n"
     ]
    }
   ],
   "source": [
    "a = np.arange(10,51,10)\n",
    "print(np.pad(a, (2,3), 'constant', constant_values = 0))\n",
    "print(np.pad(a, (0,3), 'constant', constant_values = 100))"
   ]
  },
  {
   "cell_type": "code",
   "execution_count": 108,
   "id": "4216c7d2",
   "metadata": {},
   "outputs": [
    {
     "name": "stdout",
     "output_type": "stream",
     "text": [
      "[[1. 1. 1. 1. 1.]\n",
      " [1. 1. 1. 1. 1.]\n",
      " [1. 1. 1. 1. 1.]\n",
      " [1. 1. 1. 1. 1.]\n",
      " [1. 1. 1. 1. 1.]]\n",
      "[[0. 0. 0. 0. 0. 0. 0.]\n",
      " [0. 1. 1. 1. 1. 1. 0.]\n",
      " [0. 1. 1. 1. 1. 1. 0.]\n",
      " [0. 1. 1. 1. 1. 1. 0.]\n",
      " [0. 1. 1. 1. 1. 1. 0.]\n",
      " [0. 1. 1. 1. 1. 1. 0.]\n",
      " [0. 0. 0. 0. 0. 0. 0.]]\n",
      "[[0. 0. 0. 0. 0. 0. 0. 0. 0.]\n",
      " [0. 0. 0. 0. 0. 0. 0. 0. 0.]\n",
      " [0. 0. 1. 1. 1. 1. 1. 0. 0.]\n",
      " [0. 0. 1. 1. 1. 1. 1. 0. 0.]\n",
      " [0. 0. 1. 1. 1. 1. 1. 0. 0.]\n",
      " [0. 0. 1. 1. 1. 1. 1. 0. 0.]\n",
      " [0. 0. 1. 1. 1. 1. 1. 0. 0.]\n",
      " [0. 0. 0. 0. 0. 0. 0. 0. 0.]\n",
      " [0. 0. 0. 0. 0. 0. 0. 0. 0.]]\n"
     ]
    }
   ],
   "source": [
    "a = np.ones((5,5))\n",
    "print(a)\n",
    "\n",
    "print(np.pad(a, (1,), constant_values=(0,)))\n",
    "print(np.pad(a, (2,), constant_values=(0,)))"
   ]
  },
  {
   "cell_type": "code",
   "execution_count": 114,
   "id": "6aff40ce",
   "metadata": {},
   "outputs": [
    {
     "name": "stdout",
     "output_type": "stream",
     "text": [
      "[[1. 1. 1. 1. 1.]\n",
      " [1. 1. 1. 1. 1.]\n",
      " [1. 1. 1. 1. 1.]\n",
      " [1. 1. 1. 1. 1.]\n",
      " [1. 1. 1. 1. 1.]]\n",
      "\n",
      "[[0. 1. 1. 1. 0.]\n",
      " [0. 1. 1. 1. 0.]\n",
      " [0. 1. 1. 1. 0.]\n",
      " [0. 1. 1. 1. 0.]\n",
      " [0. 1. 1. 1. 0.]]\n",
      "\n",
      "[[0. 0. 0. 0. 0.]\n",
      " [0. 1. 1. 1. 0.]\n",
      " [0. 1. 1. 1. 0.]\n",
      " [0. 1. 1. 1. 0.]\n",
      " [0. 0. 0. 0. 0.]]\n",
      "\n",
      "[[1. 0. 1. 0. 1.]\n",
      " [0. 0. 0. 0. 0.]\n",
      " [1. 0. 1. 0. 1.]\n",
      " [0. 0. 0. 0. 0.]\n",
      " [1. 0. 1. 0. 1.]]\n"
     ]
    }
   ],
   "source": [
    "a = np.ones((5,5))\n",
    "print(a)\n",
    "print()\n",
    "\n",
    "a[:, [0, -1]] = 0\n",
    "print(a)\n",
    "print()\n",
    "\n",
    "a[[0, -1], :] = 0\n",
    "print(a)\n",
    "print()\n",
    "\n",
    "a = np.ones((5,5))\n",
    "a[:, [1,-2]] = 0\n",
    "a[[1, -2]] = 0\n",
    "print(a)"
   ]
  },
  {
   "cell_type": "code",
   "execution_count": 115,
   "id": "a1b9fcfc",
   "metadata": {},
   "outputs": [
    {
     "data": {
      "text/plain": [
       "False"
      ]
     },
     "execution_count": 115,
     "metadata": {},
     "output_type": "execute_result"
    }
   ],
   "source": [
    "0.3 == 3*0.1"
   ]
  },
  {
   "cell_type": "code",
   "execution_count": 118,
   "id": "6564308a",
   "metadata": {},
   "outputs": [
    {
     "name": "stdout",
     "output_type": "stream",
     "text": [
      "[[0 0 0 0 0 0 0]\n",
      " [1 0 0 0 0 0 0]\n",
      " [0 2 0 0 0 0 0]\n",
      " [0 0 3 0 0 0 0]\n",
      " [0 0 0 4 0 0 0]\n",
      " [0 0 0 0 5 0 0]\n",
      " [0 0 0 0 0 6 0]]\n"
     ]
    }
   ],
   "source": [
    "a = np.diag(range(1,7), k = -1)\n",
    "print(a)"
   ]
  },
  {
   "cell_type": "code",
   "execution_count": 120,
   "id": "d38b6177",
   "metadata": {},
   "outputs": [
    {
     "name": "stdout",
     "output_type": "stream",
     "text": [
      "[[list([0.1]) list([1, 0]) list([0.1]) list([1, 0]) list([0.1])\n",
      "  list([1, 0])]\n",
      " [list([0.1]) list([1, 0]) list([0.1]) list([1, 0]) list([0.1])\n",
      "  list([1, 0])]\n",
      " [list([0.1]) list([1, 0]) list([0.1]) list([1, 0]) list([0.1])\n",
      "  list([1, 0])]]\n"
     ]
    },
    {
     "name": "stderr",
     "output_type": "stream",
     "text": [
      "C:\\Users\\2020A00150\\AppData\\Local\\Temp\\ipykernel_13112\\3525779625.py:1: VisibleDeprecationWarning: Creating an ndarray from ragged nested sequences (which is a list-or-tuple of lists-or-tuples-or ndarrays with different lengths or shapes) is deprecated. If you meant to do this, you must specify 'dtype=object' when creating the ndarray.\n",
      "  a = np.tile( np.array([[0.1], [1,0]]), (3,3))\n"
     ]
    }
   ],
   "source": [
    "a = np.tile( np.array([[0.1], [1,0]]), (3,3))\n",
    "print(a)"
   ]
  },
  {
   "cell_type": "code",
   "execution_count": 132,
   "id": "a9abdbfb",
   "metadata": {
    "scrolled": true
   },
   "outputs": [
    {
     "name": "stdout",
     "output_type": "stream",
     "text": [
      "[ 0  1  2  3  4  5  6  7  8  9 10]\n",
      "[ 0  1  2  3 -4 -5 -6 -7  8  9 10]\n"
     ]
    }
   ],
   "source": [
    "a = np.arange(11)\n",
    "print(a)\n",
    "\n",
    "a[4:8] *= -1\n",
    "print(a)"
   ]
  },
  {
   "cell_type": "code",
   "execution_count": 135,
   "id": "94442aa9",
   "metadata": {},
   "outputs": [
    {
     "name": "stdout",
     "output_type": "stream",
     "text": [
      "['2030-01' '2030-02' '2030-03' '2030-04' '2030-05' '2030-06' '2030-07'\n",
      " '2030-08' '2030-09' '2030-10' '2030-11' '2030-12']\n",
      "['2001' '2002' '2003' '2004' '2005' '2006' '2007' '2008' '2009' '2010'\n",
      " '2011' '2012' '2013' '2014' '2015' '2016' '2017' '2018' '2019' '2020'\n",
      " '2021' '2022' '2023' '2024' '2025' '2026' '2027' '2028' '2029' '2030']\n"
     ]
    }
   ],
   "source": [
    "date = np.arange('2030-01','2031-01', dtype = 'datetime64[M]')\n",
    "print(date)\n",
    "\n",
    "date1 = np.arange('2001-01', '2031-01', dtype = 'datetime64[Y]')\n",
    "print(date1)"
   ]
  },
  {
   "cell_type": "code",
   "execution_count": 144,
   "id": "cd825c3d",
   "metadata": {},
   "outputs": [
    {
     "name": "stdout",
     "output_type": "stream",
     "text": [
      "[7 7 4 6 9 9 5 1 2 9 3 4 4 4 0 9 5 3 0 9 8 3 6 5 7 0 0 7 9 4 3 8 1 8 2 0 0\n",
      " 2 3 9 6 5 1 5 2 0 4 9 3 4 5 4 9 5 3 7 5 4 6 5 8 1 3 2 0 5 1 1 3 0 3 2 3 8\n",
      " 0 5 4 5 8 5 8 1 6 9 4 2 9 2 4 1 8 1 0 1 5 5 6 1 9 4]\n"
     ]
    }
   ],
   "source": [
    "a = np.random.uniform(0,10,100)\n",
    "print(a.astype(int))"
   ]
  },
  {
   "cell_type": "code",
   "execution_count": 146,
   "id": "a0fff87f",
   "metadata": {},
   "outputs": [
    {
     "name": "stdout",
     "output_type": "stream",
     "text": [
      "[1. 1. 1.] [2. 2. 2.]\n",
      "[3. 3. 3.]\n"
     ]
    }
   ],
   "source": [
    "a = np.ones(3)*1\n",
    "b = np.ones(3)*2\n",
    "print(a,b)\n",
    "np.add(a,b,out=a)\n",
    "print(a)\n",
    "\n",
    "#divide, negative, add, multiply"
   ]
  }
 ],
 "metadata": {
  "kernelspec": {
   "display_name": "Python 3 (ipykernel)",
   "language": "python",
   "name": "python3"
  },
  "language_info": {
   "codemirror_mode": {
    "name": "ipython",
    "version": 3
   },
   "file_extension": ".py",
   "mimetype": "text/x-python",
   "name": "python",
   "nbconvert_exporter": "python",
   "pygments_lexer": "ipython3",
   "version": "3.9.12"
  }
 },
 "nbformat": 4,
 "nbformat_minor": 5
}
